{
 "cells": [
  {
   "cell_type": "markdown",
   "metadata": {},
   "source": [
    "### 집합"
   ]
  },
  {
   "cell_type": "code",
   "execution_count": 17,
   "metadata": {},
   "outputs": [
    {
     "data": {
      "text/plain": [
       "set()"
      ]
     },
     "execution_count": 17,
     "metadata": {},
     "output_type": "execute_result"
    }
   ],
   "source": [
    "# 집합과 원소\n",
    "# 집합: 구별 가능한 객체의 모임, 원소: 집합에 포함된 구별 가능한 객체\n",
    "A=set([1,2,3,4,5])     # 내용 변경가능한 뮤터블 자료형\n",
    "B=frozenset(['h','t']) # 내용 변경 불가능한 임뮤터블 자료형\n",
    "C={'1','2','3','4'}\n",
    "\n",
    "# 집합의 크기 - 원소의 갯수\n",
    "# |A|=card(A)=5\n",
    "len(A),len(B),len(C)\n",
    "# 실수 구간집합은 무한개의 원소를 가지므로 집합으로 표현 불가능함.\n",
    "\n",
    "# 합/교집합 - A∪B/A∩B\n",
    "A1=set([1,2,3,4]); A2=set([2,4,6]); A3=set([1,2,3]); A4=set([2,3,4,5,6])\n",
    "A1.union(A2), A2|A1 # 합집합\n",
    "A3.intersection(A4), A4&A3 # 교집합\n",
    "\n",
    "# 전체/부분집합\n",
    "# 부분집합(subset) : 어떤 집합의 원소 중 일부만을 포함하는 집합 A⊂Ω, A⊂A, for all A\n",
    "# 전체집합 : 원래의 집합\n",
    "# issubset 부분집합인지 확인 True False\n",
    "A3.issubset(A1), A3 <=A1 # 등호로도 가능. 작은쪽이 부분집합\n",
    "\n",
    "# 차집합과 여집합\n",
    "# 차집합 : 집합A에 속하면서 집합 B에는 속하지 않는 원소로 이루어진 A의 부분집합\n",
    "#          = A - B\n",
    "# 여집합 : 전체집합중 부분집합 A에 속하지 않는 원소 AC=Ω−A\n",
    "A1.difference(A2), A1-A2 # 차집합 구하기\n",
    "\n",
    "# 공집합\n",
    "# 아무런 원소도 포함하지 않는 집합 = ∅ (null set)\n",
    "# 공집합은 모든 집합의 부분집합이 됨 ∅⊂A, for all A\n",
    "# A∩∅=∅, A∪∅=A, A∩AC=∅\n",
    "empty_set=set([]); empty_set\n",
    "\n",
    "# 부분집합의 수\n",
    "# 원소의 갯수가 N개인 집합은 2^N개의 부분집합을 갖는다.\n",
    "\n",
    "# 합집합과 교집합의 분배법칙\n",
    "# 분배법칙 성립한다는 뜻"
   ]
  },
  {
   "cell_type": "markdown",
   "metadata": {},
   "source": [
    "### 확률의 수학적 정의와 의미"
   ]
  },
  {
   "cell_type": "code",
   "execution_count": 18,
   "metadata": {},
   "outputs": [
    {
     "data": {
      "text/plain": [
       "{frozenset(): 0,\n",
       " frozenset({'H'}): 0.4,\n",
       " frozenset({'T'}): 0.6,\n",
       " frozenset({'H', 'T'}): 1}"
      ]
     },
     "execution_count": 18,
     "metadata": {},
     "output_type": "execute_result"
    }
   ],
   "source": [
    "# 표본공간과 확률표본\n",
    "# 확률표본: 풀고자 하는 확률적 문제에서 발생할 수 있는  하나의 현상 혹은 경우\n",
    "# 표본공간: 가능한 모든 표본의 집합 Ω\n",
    "# 동전의 경우 Ω={H,T}, 카드의 경우 Ω={♠,♡,♢,♣}\n",
    "\n",
    "# 사건\n",
    "# 표본공간 Ω의 부분집합. A,B,C등으로 표현\n",
    "# 동전의 경우 A={}, B={H}, C={T}, D={H,T} 로 나타낼 수 있음\n",
    "# 파이썬에서 구현은 frozenset으로 함. - 딕셔너리의 키로 사용하기 위해(그냥 set은 사용불가능)\n",
    "A=frozenset([]); B=frozenset(['H']); C=frozenset(['T']); D=frozenset(['H','T'])\n",
    "set([A,B,C,D])\n",
    "\n",
    "# 확률\n",
    "# 사건(부분집합)을 입력하면 숫자(확률값)가 출력되는 함수.\n",
    "# 사건 = 정의역 = 표본공간의 모든 사건(부분집합)의 집합.\n",
    "# 숫자 = 모든 각각의 사건에 어떤 숫자를 할당하는 함수 = 확률 P\n",
    "# 모든 확률은 실수이며 양수 혹은 0 P()>=0\n",
    "# P(Ω)=1, A∩B=∅ → P(A∪B)=P(A)+P(B)\n",
    "\n",
    "# 확률은 표본이 아닌 사건을 입력으로 가지는 함수\n",
    "# 따라서 주사위의 경우 P(1)=1/6은 잘못된 식. P({1})=1/6이 올바른 식\n",
    "\n",
    "# 파이썬을 이용한 확률의 구현\n",
    "P={A:0,B:0.4,C:0.6,D:1}; P\n",
    "\n",
    "# 확률의 의미\n",
    "# 가장 대표적인 해석 = 빈도주의 관점, 베이지안 관점\n",
    "# 빈도주의:반복적으로 선택된 표본이 사건 A의 원소가 될 경향 = P\n",
    "# 베이지안:선택된 표본이 특정한 사건에 속한다는 가설 혹은 주장의 신뢰도 = P (반복이 사용되지 않음)\n",
    "#         - 보통 가정을 통해 추론하는 형식으로 많이 사용함."
   ]
  },
  {
   "cell_type": "markdown",
   "metadata": {},
   "source": [
    "### 확률의 성질"
   ]
  },
  {
   "cell_type": "code",
   "execution_count": 19,
   "metadata": {},
   "outputs": [],
   "source": [
    "# 성질 1. 공집합의 확률\n",
    "# 공집합인 사건의 확률 = 0 , P(∅)=0\n",
    "# P(A∪∅)=P(A)=P(A)+P(∅) ∴P(∅)=0\n",
    "\n",
    "# 성질 2. 여집합의 확률\n",
    "# 1- 원래 사건의 확률 P(A^C)=1−P(A)\n",
    "# P(A∪AC)=P(Ω)=1=P(A)+P(AC) ∴P(AC)=1−P(A)\n",
    "\n",
    "# 성질 3. 포함-배제 원리\n",
    "# 두 사건의 합집합 확률은 확률의 합에서 교집합의 확률을 뺀 것과 같음\n",
    "# P(A∪B)=P(A)+P(B)−P(A∩B)\n",
    "\n",
    "# 성질 4. 전체 확률의 법칙\n",
    "# 복수의 사건 C_i가 아래 조건을 만족 시\n",
    "# 서로 교집합이 없다. 이를 서로 배타적(mutually exclusive)이라고도 한다. C_i ∩ C_j=∅(i≠j)\n",
    "# 모든 집합의 합집합이 전체집합(표본공간)이다. 이 경우 완전한(complete) 부분집합들이라고 한다.\n",
    "# C_1 ∪ C_2 ∪ ⋯ = Ω\n",
    "# 이 경우 사건 A의 확률은 사건 A와 사건 C_i가 동시에 발생할 사건들의 확률의 합과 같음\n",
    "# P(A)=∑i P(A & C_i)"
   ]
  },
  {
   "cell_type": "markdown",
   "metadata": {},
   "source": [
    "### 확률분포함수"
   ]
  },
  {
   "cell_type": "code",
   "execution_count": 20,
   "metadata": {},
   "outputs": [
    {
     "data": {
      "image/png": "[encoded data removed]",
      "text/plain": [
       "<Figure size 432x288 with 1 Axes>"
      ]
     },
     "metadata": {
      "needs_background": "light"
     },
     "output_type": "display_data"
    },
    {
     "data": {
      "image/png": "[encoded data removed]",
      "text/plain": [
       "<Figure size 432x288 with 1 Axes>"
      ]
     },
     "metadata": {
      "needs_background": "light"
     },
     "output_type": "display_data"
    }
   ],
   "source": [
    "# 확률분포\n",
    "# 어떤 사건에 어느 정도의 확률이 할당되었는지 묘사한 정보\n",
    "# 확률질량함수 | 누적분포함수 | 확률밀도함수\n",
    "\n",
    "# 단순사건과 확률질량함수\n",
    "# 단순사건: 표본이 하나인 사건 - 단순사건끼리는 교집합을 갖지 않음\n",
    "# 확률질량함수: 유한 개의 사건이 존재하는 경우 각 단순사건에 대한 확률만 정의하는 함수 p\n",
    "# p(a) = P({a})\n",
    "# 확률질량함수는 사건이 아닌 원소에 대해서만 정의되므로 p(1,2)는 틀린 표현. P({1,2})는 됨\n",
    "\n",
    "# 표본 수가 무한한 경우\n",
    "# 표본 수가 무한하고 모든 표본에 대해 표본 하나만을 가진 사건의 확률이 동일하다면(발생확률이 같다면)\n",
    "# 표본 하나에 대한 사건의 확률은 언제나 0이다.\n",
    "# 따라서 이런 경우 사건에 대해 직접 확률을 할당하는 수밖에 없음\n",
    "\n",
    "# 구간\n",
    "# 표본공간이 실수의 집합이라면 대부분의 사건은 구간으로 표현됨 A={a<x≤b}\n",
    "# P(A)=P({a<x≤b})=P(a,b)=P(a&b)\n",
    "\n",
    "# 누적분포함수 - cdf\n",
    "# 시작점을 음의 무한대로 통일한 숫자 하나만으로 사건(구간)을 정의하는 방법 S_x\n",
    "# S_x={−∞<X≤x} 보통 F로 표현함\n",
    "# F(x)=P(S_x)=P({X<x}), P(−∞,b)=P(−∞,a)+P(a,b) > F(b)=F(a)+P(a,b)\n",
    "# 간단한 예제\n",
    "import numpy as np; import matplotlib.pyplot as plt\n",
    "t=np.linspace(-100,500,100)\n",
    "F=t/360; F[t<0]=0; F[t>360]=1\n",
    "plt.plot(t,F)\n",
    "plt.ylim(-0.1,1,1); plt.xticks([0,180,360])\n",
    "plt.title('cdf'); plt.xlabel('x'); plt.ylabel('F(x)')\n",
    "plt.grid(True); plt.show()\n",
    "\n",
    "# 확률밀도함수\n",
    "# 누적분포함수는 범위가 크기 때문에 어떤 확률 변수 값이 더 자주 나오는지 알 수 없음\n",
    "# 따라서 정적분과 비슷한 형식으로 풀이하는게 확률밀도함수.\n",
    "# P({x1<x≤x1+dx})=F(x1+dx)−F(x1) 이를 dx로 나누면 극한에서 기울기가 됨.\n",
    "# 따라서 확률밀도함수 = 누적분포함수를 미분하여 구한 도함수\n",
    "# 사실 정확한 정의는 이산 확률변수의 각 값에 대해 정의되는 함수임\n",
    "# p(x) = dF(x)/dx, F(x)=∫−∞~x p(u)du\n",
    "# 특정한 구간의 확률이 다른 구간에 비해 상대적으로 얼마나 높/낮은가를 판별가능\n",
    "#       = 그 값 자체가 확률은 아님 \n",
    "# 누적분포함수의 기울기가 음수일 수 없기 때문에 항상 p(x)>=0\n",
    "# 음의 무한대부터 양의 무한대를 적분하면 표본공간의 확률이므로 값은 1\n",
    "# 앞의 예제의 확률밀도함수 버전\n",
    "t=np.linspace(-100,500,1000)\n",
    "F=t/360; F[t<0]=0; F[t>360]=1\n",
    "p=np.gradient(F,600/1000) # 수치미분\n",
    "plt.plot(t,p)\n",
    "plt.ylim(-0.0001,p.max()*1.1); plt.xticks([0,180,360])\n",
    "plt.title('d(cdf)/dx')\n",
    "plt.xlabel('x'); plt.ylabel('p(x)')\n",
    "plt.grid(True); plt.show()"
   ]
  },
  {
   "cell_type": "markdown",
   "metadata": {},
   "source": [
    "### 결합확률과 조건부확률"
   ]
  },
  {
   "cell_type": "code",
   "execution_count": 21,
   "metadata": {},
   "outputs": [
    {
     "name": "stdout",
     "output_type": "stream",
     "text": [
      "+------+--------+\n",
      "| X    |   P(X) |\n",
      "+======+========+\n",
      "| X(0) | 0.6000 |\n",
      "+------+--------+\n",
      "| X(1) | 0.4000 |\n",
      "+------+--------+\n"
     ]
    }
   ],
   "source": [
    "# 결합확률과 조건부 확률\n",
    "# 결합확률: 사건 A와 B가 동시에 발생할 확률 = P(A,B)\n",
    "# 주변확률: 결합되지 않는 개별의 사건의 확률(결합확률과 대비됨)\n",
    "# 조건부확률: B가 사실일 경우 A에 대한 확률 = P(A|B)\n",
    "# P(A|B) = P(A,B)/P(B)\n",
    "#   실질적 새로운 표본공간은 P(B)가 됨. > A의 원소는 B의 원소도 되므로 A&B가 새로운 A가 됨\n",
    "#   따라서 B일때 A일 확률은 P(A&B)/P(B)\n",
    "# 만약 P(B)가 주어지든 주어지지 않든 확률의 변함이 없다면 A와 B는 독립이다.\n",
    "# P(A|B)=P(A)\n",
    "\n",
    "# 독립\n",
    "# P(A&B)=P(A)P(B) 이면 독립. 위의 조건부 확률에서도 독립이면 P(A|B)=P(A)가 됨을 알 수 있음\n",
    "\n",
    "# 원인과 결과, 근거와 추론, 가정과 조건부 결론\n",
    "# 그냥 위 내용 반복. P(A&B)=P(A|B)P(B)\n",
    "# 응용시 P(A,B,C)=P(A|B,C)P(B,C)\n",
    "\n",
    "# 사슬법칙\n",
    "# 조건부확률과 결합확률의 관계의 확장\n",
    "# P(X1,X2)=P(X1)P(X2|X1); P(X1,X2,X3)=P(X3|X1,X2)P(X1,X2)=P(X3|X1,X2)P(X2|X1)P(X1)\n",
    "# 이렇게 쭉 나열시 P(X1,..,Xn)=P(X1)∏i=2~n P(Xi|X1,..,Xi-1)\n",
    "\n",
    "# 확률변수\n",
    "# 확률적인 숫자 값을 출력하는 변수. X,Y처럼 표기\n",
    "# 수학적 정의는 이후에 다시 정립함\n",
    "\n",
    "# pgmpy 패키지\n",
    "# 결합확률 모형 만들기 JointProbabilityDistribution(variables,cardinality,values)\n",
    "# variables:확률변수의 이름 문자열 리스트\n",
    "# cardinality:각 확률변수의 표본 혹은 베타적 사건의 수의 리스트\n",
    "# values: 확률변수의 모든 표본에 대한 확률값의 리스트\n",
    "from pgmpy.factors.discrete import JointProbabilityDistribution as JPD\n",
    "import numpy as np\n",
    "px=JPD(['X'],[2],np.array([12,8])/20); print(px)\n",
    "# marginal_distribution(), marginalize(): 결합확률로부터 주변확률을 계산\n",
    "# conditional_distribution(): 조건부확률 계산\n",
    "# \n",
    "# marginal_distribution(values, inplace=True): \n",
    "# values:주변확률을 구할 확률변수의 이름 문자열 리스트\n",
    "# inplace:True면 객체 자신을 주변확률 모형으로 변화, False면 주변확률 모형 객체를 반환\n",
    "\n",
    "# marginalize(values,inplace=True)\n",
    "# values:어떤 확률변수의 주변확률을 구하기 위해 없앨 확률변수의 이름 문자열 리스트\n",
    "# inplace:위 매서드와 동일\n",
    "\n",
    "# conditonal_distribution(values,inplace=True)\n",
    "# values:주변확률을 구할 확률변수의 이름 문자열과 값을 묶은 튜플의 리스트\n",
    "# inplace:위 매서드와 동일"
   ]
  },
  {
   "cell_type": "code",
   "execution_count": 22,
   "metadata": {},
   "outputs": [
    {
     "name": "stdout",
     "output_type": "stream",
     "text": [
      "+------+------+----------+\n",
      "| X    | Y    |   P(X,Y) |\n",
      "+======+======+==========+\n",
      "| X(0) | Y(0) |   0.1500 |\n",
      "+------+------+----------+\n",
      "| X(0) | Y(1) |   0.4500 |\n",
      "+------+------+----------+\n",
      "| X(1) | Y(0) |   0.3500 |\n",
      "+------+------+----------+\n",
      "| X(1) | Y(1) |   0.0500 |\n",
      "+------+------+----------+\n",
      "+------+------+----------+\n",
      "| X    | Y    |   P(X,Y) |\n",
      "+======+======+==========+\n",
      "| X(0) | Y(0) |   0.3000 |\n",
      "+------+------+----------+\n",
      "| X(0) | Y(1) |   0.3000 |\n",
      "+------+------+----------+\n",
      "| X(1) | Y(0) |   0.2000 |\n",
      "+------+------+----------+\n",
      "| X(1) | Y(1) |   0.2000 |\n",
      "+------+------+----------+\n"
     ]
    }
   ],
   "source": [
    "# pgmpy 예제\n",
    "pxy=JPD(['X','Y'],[2,2],np.array([3,9,7,1])/20); print(pxy)\n",
    "px=pxy.marginal_distribution(['X'],inplace=False);  # 주변확률 P(A),P(A^c)구함\n",
    "px=pxy.marginalize(['Y'],inplace=False) #위와 결과동일. 인수로받은 확률변수를 제외\n",
    "py=pxy.marginal_distribution(['Y'],inplace=False);  # 이러면 P(B),P(B^c) 계산\n",
    "py_on_x0=pxy.conditional_distribution([('X',0)],inplace=False)\n",
    "# 이 경우 P(B|A),P(B^c|A)를 계산 = X0인 A에 대한 조건부 확률 계산\n",
    "# 아래는 P(B|A^c),P(B^c|A^c)를 계산 = X1인 A^c에 대한 조건부 확률 계산\n",
    "py_on_x1=pxy.conditional_distribution([('X',1)],inplace=False)\n",
    "pxy.check_independence(['X'],['Y']) # 독립 여부 확인\n",
    "print(px * py) # pxy와 비교시 다른걸로도 독립이 아님을 확인할 수 있음"
   ]
  },
  {
   "cell_type": "markdown",
   "metadata": {},
   "source": [
    "### 베이즈 정리"
   ]
  },
  {
   "cell_type": "code",
   "execution_count": 40,
   "metadata": {},
   "outputs": [
    {
     "name": "stdout",
     "output_type": "stream",
     "text": [
      "+------+-------+\n",
      "| X(0) | 0.998 |\n",
      "+------+-------+\n",
      "| X(1) | 0.002 |\n",
      "+------+-------+\n",
      "+------+------+------+\n",
      "| X    | X(0) | X(1) |\n",
      "+------+------+------+\n",
      "| Y(0) | 0.95 | 0.01 |\n",
      "+------+------+------+\n",
      "| Y(1) | 0.05 | 0.99 |\n",
      "+------+------+------+\n",
      "+------+----------+\n",
      "| X    |   phi(X) |\n",
      "+======+==========+\n",
      "| X(0) |   0.9618 |\n",
      "+------+----------+\n",
      "| X(1) |   0.0382 |\n",
      "+------+----------+\n"
     ]
    },
    {
     "name": "stderr",
     "output_type": "stream",
     "text": [
      "C:\\Users\\user\\AppData\\Roaming\\Python\\Python39\\site-packages\\pgmpy\\models\\BayesianModel.py:8: FutureWarning: BayesianModel has been renamed to BayesianNetwork. Please use BayesianNetwork class, BayesianModel will be removed in future.\n",
      "  warnings.warn(\n"
     ]
    }
   ],
   "source": [
    "# 베이즈 정리 = 조건부확률을 구하는 공식\n",
    "# P(A|B) = P(A,B)/P(B) = P(B|A)P(A)/P(B) 인건 앞에서도 봤음\n",
    "\n",
    "# P(A|B)에서 A는 사후확률. B발생 후 갱신된 사건이기 때문\n",
    "# P(A)에서 A는 사전확률. B와 상관없이 전에 가지고 있던 확률\n",
    "# P(B|A)는 가능도. A가 발생 후의 B의 확률\n",
    "# P(B)는 정규화 상수 or 증거. 확률의 크기를 조정\n",
    "# 위 내용은 전부 A기준으로 쓰임\n",
    "# 베이즈 정리는 B가 발생하여 진실임을 알게 됨으로써 사건 A의 확률이 어떻게 변화하는지 표현한 정리\n",
    "# 따라서 베이즈 정리는 새로운 정보가 기존의 추론에 어떻게 영향을 미치는지 보여줌\n",
    "\n",
    "# 베이즈 정리의 확장 1\n",
    "# Ai는 배타적이며 합하면 완전함.\n",
    "# P(Ai|B)=P(B|Ai)P(Ai)/P(B)=P(B|Ai)P(Ai)/∑iP(Ai,B)= P(B|Ai)P(Ai) / ∑iP(B|Ai)P(Ai)\n",
    "# 이는 멀티-클래스 분류 문제에서 사용되는 베이즈 정리임\n",
    "# 예로 B라는 힌트가 주어졌을때 1~4번 보기 중 하나를 고르는 4지선다 문제와 같음\n",
    "\n",
    "# pgmpy를 이용한 베이즈 정리 적용\n",
    "# BayesianModel 클래스 사용. 조건부확률을 구현하는 TabularCPD클래스를 사용해 사전확률과 가능도 구현\n",
    "# TabularCPD(variable,variable_card,value,evidence=None,evidence_card=None)\n",
    "# variable:확률변수 이름 문자열\n",
    "# variable_card:확률변수가 가질 수 있는 경우의 수\n",
    "# value:조건부확률 배열, 하나의 열이 동일 조건이므로 열의 합은 1\n",
    "# evidence:조건이 되는 확률변수의 이름 문자열리스트\n",
    "# evidence_card:조건이 되는 확률변수가 가질 수 있는 경우의 수 리스트\n",
    "from pgmpy.factors.discrete import TabularCPD\n",
    "import numpy as np\n",
    "cpd_X=TabularCPD('X', 2,[[1 -0.002],[0.002]]); print(cpd_X) # 사전확률 정의\n",
    "cpd_YonX=TabularCPD('Y',2,np.array([[0.95,0.01],[0.05,0.99]]),\n",
    "                    evidence=['X'],evidence_card=[2]) # 조건부확률P(Y|X)구현\n",
    "print(cpd_YonX)\n",
    "# BayesianModel(variables)\n",
    "# variables: 확률모형이 포함하는 확률변수 이름 문자열의 리스트\n",
    "# 지원 매서드 add_cpds(): 조건부확률 추가, check_model():정상모형인지 확인 True반환하면 정상\n",
    "from pgmpy.models import BayesianModel\n",
    "model=BayesianModel([('X','Y')])\n",
    "model.add_cpds(cpd_X,cpd_YonX)\n",
    "model.check_model()\n",
    "# 변수 제거법을 사용한 추정을 제공함. VariableElimination으로 추정 객체를 만들고 query적용\n",
    "# query(variables, evidences) - variables:사후확률을 계산할 확률변수의 이름 리스트\n",
    "#                               evidences: 조건이 되는 확률변수의 값을 나타내는 딕셔너리\n",
    "from pgmpy.inference import VariableElimination\n",
    "inference=VariableElimination(model)\n",
    "posterior=inference.query(['X'],evidence={'Y':1},joint=False,show_progress=False)\n",
    "print(posterior['X'])\n",
    "# 자세한 내용은 확률적 그래프 모형에서 다룸\n",
    "\n",
    "# 베이즈 정리의 확장 2\n",
    "# P(A|B,C)=P(C|A,B)P(A|B)/P(C|B)\n",
    "# 증명\n",
    "# P(A,B,C)= P(A|B,C)P(C|B)P(B) = P(C|A,B)P(A|B)P(B)\n",
    "# 따라서 이항하면 P(A|B,C)=P(C|A,B)P(A|B)/P(C|B)"
   ]
  }
 ],
 "metadata": {
  "kernelspec": {
   "display_name": "Python 3.9.0 64-bit",
   "language": "python",
   "name": "python3"
  },
  "language_info": {
   "codemirror_mode": {
    "name": "ipython",
    "version": 3
   },
   "file_extension": ".py",
   "mimetype": "text/x-python",
   "name": "python",
   "nbconvert_exporter": "python",
   "pygments_lexer": "ipython3",
   "version": "3.9.0"
  },
  "orig_nbformat": 4,
  "vscode": {
   "interpreter": {
    "hash": "11938c6bc6919ae2720b4d5011047913343b08a43b18698fd82dedb0d4417594"
   }
  }
 },
 "nbformat": 4,
 "nbformat_minor": 2
}
